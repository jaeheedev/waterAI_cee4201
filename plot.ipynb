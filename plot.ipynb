{
 "cells": [
  {
   "cell_type": "code",
   "execution_count": null,
   "metadata": {},
   "outputs": [],
   "source": [
    "class ParallelLSTMModel(nn.Module):\n",
    "    def __init__(self, input_size, hidden_size, output_size, num_models):\n",
    "        super().__init__()\n",
    "        self.hidden_size = hidden_size\n",
    "        self.num_models = num_models\n",
    "        self.layers = 10\n",
    "        self.seq_len = 12\n",
    "        self.lstm_models = LSTMModel(input_size=input_size, hidden_size=100, output_size=1, seq_len = self.seq_len, layers = self.layers)\n",
    "        self.fc = nn.Linear(hidden_size * num_models, output_size)\n",
    "    \n",
    "    def reset_hidden_state(self):\n",
    "        self.hidden = (torch.zeros(self.layers, self.seq_len, self.hidden_size),\n",
    "                      torch.zeros(self.layers, self.seq_len, self.hidden_size))\n",
    "\n",
    "    def forward(self, p, g, c, h):\n",
    "        out0 = self.lstm_models(p)\n",
    "        out1 = self.lstm_models(g)\n",
    "        out2 = self.lstm_models(c)\n",
    "        out3 = self.lstm_models(h)\n",
    "        processed_inputs = torch.cat([out0, out1, out2, out3], dim=0)\n",
    "        out = self.fc(torch.squeeze(processed_inputs))\n",
    "        return out"
   ]
  }
 ],
 "metadata": {
  "kernelspec": {
   "display_name": "Python 3",
   "language": "python",
   "name": "python3"
  },
  "language_info": {
   "name": "python",
   "version": "3.11.2"
  },
  "orig_nbformat": 4
 },
 "nbformat": 4,
 "nbformat_minor": 2
}

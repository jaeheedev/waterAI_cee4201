{
 "cells": [
  {
   "cell_type": "code",
   "execution_count": 1,
   "metadata": {},
   "outputs": [
    {
     "ename": "ModuleNotFoundError",
     "evalue": "No module named 'lightgbm'",
     "output_type": "error",
     "traceback": [
      "\u001b[0;31m---------------------------------------------------------------------------\u001b[0m",
      "\u001b[0;31mModuleNotFoundError\u001b[0m                       Traceback (most recent call last)",
      "Cell \u001b[0;32mIn[1], line 1\u001b[0m\n\u001b[0;32m----> 1\u001b[0m \u001b[39mimport\u001b[39;00m \u001b[39mlightgbm\u001b[39;00m \u001b[39mas\u001b[39;00m \u001b[39mlgb\u001b[39;00m\n\u001b[1;32m      2\u001b[0m \u001b[39mimport\u001b[39;00m \u001b[39msklearn\u001b[39;00m\n",
      "\u001b[0;31mModuleNotFoundError\u001b[0m: No module named 'lightgbm'"
     ]
    }
   ],
   "source": [
    "import lightgbm as lgb\n",
    "import sklearn"
   ]
  },
  {
   "cell_type": "code",
   "execution_count": 7,
   "metadata": {},
   "outputs": [],
   "source": [
    "import numpy as np\n",
    "import matplotlib.pyplot as plt\n",
    "import pandas as pd\n",
    "# Importing the dataset\n",
    "train_dataset = pd.read_csv('preprocessing/train/revised_cheong17-21.csv')\n",
    "test_dataset = pd.read_csv('preprocessing/test/revised_cheong22.csv')\n",
    "X_train = train_dataset.iloc[:, 2:7].values\n",
    "y_train = train_dataset.iloc[:, 1].values\n",
    "\n",
    "X_test = test_dataset.iloc[:, 2:7].values\n",
    "y_test = test_dataset.iloc[:, 1].values"
   ]
  },
  {
   "cell_type": "code",
   "execution_count": 8,
   "metadata": {},
   "outputs": [
    {
     "ename": "NameError",
     "evalue": "name 'lgb' is not defined",
     "output_type": "error",
     "traceback": [
      "\u001b[0;31m---------------------------------------------------------------------------\u001b[0m",
      "\u001b[0;31mNameError\u001b[0m                                 Traceback (most recent call last)",
      "\u001b[1;32m/Users/kimjaehee/Documents/4-2/사회기반시스템종합설계/ligthgbm.ipynb Cell 3\u001b[0m in \u001b[0;36m<cell line: 2>\u001b[0;34m()\u001b[0m\n\u001b[1;32m      <a href='vscode-notebook-cell:/Users/kimjaehee/Documents/4-2/%EC%82%AC%ED%9A%8C%EA%B8%B0%EB%B0%98%EC%8B%9C%EC%8A%A4%ED%85%9C%EC%A2%85%ED%95%A9%EC%84%A4%EA%B3%84/ligthgbm.ipynb#W2sZmlsZQ%3D%3D?line=0'>1</a>\u001b[0m \u001b[39m# Create a LightGBM dataset for training\u001b[39;00m\n\u001b[0;32m----> <a href='vscode-notebook-cell:/Users/kimjaehee/Documents/4-2/%EC%82%AC%ED%9A%8C%EA%B8%B0%EB%B0%98%EC%8B%9C%EC%8A%A4%ED%85%9C%EC%A2%85%ED%95%A9%EC%84%A4%EA%B3%84/ligthgbm.ipynb#W2sZmlsZQ%3D%3D?line=1'>2</a>\u001b[0m train_data \u001b[39m=\u001b[39m lgb\u001b[39m.\u001b[39mDataset(X_train, label\u001b[39m=\u001b[39my_train)\n\u001b[1;32m      <a href='vscode-notebook-cell:/Users/kimjaehee/Documents/4-2/%EC%82%AC%ED%9A%8C%EA%B8%B0%EB%B0%98%EC%8B%9C%EC%8A%A4%ED%85%9C%EC%A2%85%ED%95%A9%EC%84%A4%EA%B3%84/ligthgbm.ipynb#W2sZmlsZQ%3D%3D?line=3'>4</a>\u001b[0m \u001b[39m# Create a LightGBM dataset from the test\u001b[39;00m\n\u001b[1;32m      <a href='vscode-notebook-cell:/Users/kimjaehee/Documents/4-2/%EC%82%AC%ED%9A%8C%EA%B8%B0%EB%B0%98%EC%8B%9C%EC%8A%A4%ED%85%9C%EC%A2%85%ED%95%A9%EC%84%A4%EA%B3%84/ligthgbm.ipynb#W2sZmlsZQ%3D%3D?line=4'>5</a>\u001b[0m test_data \u001b[39m=\u001b[39m lgb\u001b[39m.\u001b[39mDataset(X_test, label\u001b[39m=\u001b[39my_test)\n",
      "\u001b[0;31mNameError\u001b[0m: name 'lgb' is not defined"
     ]
    }
   ],
   "source": [
    "# Create a LightGBM dataset for training\n",
    "train_data = lgb.Dataset(X_train, label=y_train)\n",
    "\n",
    "# Create a LightGBM dataset from the test\n",
    "test_data = lgb.Dataset(X_test, label=y_test)"
   ]
  },
  {
   "cell_type": "code",
   "execution_count": null,
   "metadata": {},
   "outputs": [],
   "source": [
    "def lightgbm(X_train, y_train, X_test, y_test):\n",
    "    # Create a LightGBM dataset for training\n",
    "    train_data = lgb.Dataset(X_train, label=y_train)\n",
    "\n",
    "    # Create a LightGBM dataset from the test\n",
    "    test_data = lgb.Dataset(X_test, label=y_test)\n",
    "\n",
    "    # Specify the setup of LightGBM\n",
    "    parameters = {\n",
    "        'objective': 'regression',\n",
    "        'metric': 'mae',\n",
    "        'is_unbalance': 'true',\n",
    "        'boosting': 'gbdt',\n",
    "        'num_leaves': 31,\n",
    "        'feature_fraction': 0.5,\n",
    "        'bagging_fraction': 0.5,\n",
    "        'bagging_freq': 20,\n",
    "        'learning_rate': 0.05,\n",
    "        'verbose': 0\n",
    "    }\n",
    "\n",
    "    # Train the model\n",
    "    model = lgb.train(parameters,\n",
    "                    train_data,\n",
    "                    valid_sets=test_data,\n",
    "                    num_boost_round=5000,\n",
    "                    early_stopping_rounds=100)\n",
    "\n",
    "    # Make predictions\n",
    "    y_pred = model.predict(X_test)\n",
    "\n",
    "    # Calculate MAE\n",
    "    mae = sklearn.metrics.mean_absolute_error(y_test, y_pred)\n",
    "    print(f\"MAE: {mae}\")"
   ]
  },
  {
   "cell_type": "code",
   "execution_count": null,
   "metadata": {},
   "outputs": [],
   "source": [
    "y_pred = lightgbm(X_train, y_train, X_test, y_test)"
   ]
  },
  {
   "cell_type": "code",
   "execution_count": null,
   "metadata": {},
   "outputs": [],
   "source": [
    "import matplotlib.pyplot as plt\n",
    "\n",
    "plt.figure(figsize=(10, 6))\n",
    "plt.plot(y_test, label='Actual')\n",
    "plt.plot(y_pred, label='Predicted')\n",
    "plt.legend()\n",
    "plt.title(\"Actual vs Predicted values\")\n",
    "plt.show()"
   ]
  }
 ],
 "metadata": {
  "kernelspec": {
   "display_name": "base",
   "language": "python",
   "name": "python3"
  },
  "language_info": {
   "codemirror_mode": {
    "name": "ipython",
    "version": 3
   },
   "file_extension": ".py",
   "mimetype": "text/x-python",
   "name": "python",
   "nbconvert_exporter": "python",
   "pygments_lexer": "ipython3",
   "version": "3.11.2"
  },
  "orig_nbformat": 4
 },
 "nbformat": 4,
 "nbformat_minor": 2
}
